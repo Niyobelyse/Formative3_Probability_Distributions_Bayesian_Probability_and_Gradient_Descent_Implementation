{
  "nbformat": 4,
  "nbformat_minor": 0,
  "metadata": {
    "colab": {
      "provenance": []
    },
    "kernelspec": {
      "name": "python3",
      "display_name": "Python 3"
    },
    "language_info": {
      "name": "python"
    }
  },
  "cells": [
    {
      "cell_type": "code",
      "execution_count": 14,
      "metadata": {
        "id": "17Ezdfjfzh_S"
      },
      "outputs": [],
      "source": [
        "# bayes_utils.py\n",
        "\n",
        "def compute_p_positive(p_contaminated, p_positive_given_contaminated, p_positive_given_not_contaminated):\n",
        "    p_not_contaminated = 1 - p_contaminated\n",
        "    return (\n",
        "        p_positive_given_contaminated * p_contaminated +\n",
        "        p_positive_given_not_contaminated * p_not_contaminated\n",
        "    )\n",
        "\n",
        "def compute_posterior(p_contaminated, p_positive_given_contaminated, p_positive):\n",
        "    return (p_positive_given_contaminated * p_contaminated) / p_positive\n"
      ]
    },
    {
      "cell_type": "code",
      "source": [
        "# === Helper Functions ===\n",
        "\n",
        "def compute_p_positive(p_contaminated, p_positive_given_contaminated, p_positive_given_not_contaminated):\n",
        "    p_not_contaminated = 1 - p_contaminated\n",
        "    return (\n",
        "        p_positive_given_contaminated * p_contaminated +\n",
        "        p_positive_given_not_contaminated * p_not_contaminated\n",
        "    )\n",
        "\n",
        "def compute_posterior(p_contaminated, p_positive_given_contaminated, p_positive):\n",
        "    return (p_positive_given_contaminated * p_contaminated) / p_positive\n"
      ],
      "metadata": {
        "id": "VzPqN5_k9DPi"
      },
      "execution_count": 15,
      "outputs": []
    },
    {
      "cell_type": "code",
      "source": [
        "# main_analysis.ipynb - Code cell\n",
        "\n",
        "# === Helper Functions ===\n",
        "\n",
        "def compute_p_positive(p_contaminated, p_positive_given_contaminated, p_positive_given_not_contaminated):\n",
        "    p_not_contaminated = 1 - p_contaminated\n",
        "    return (\n",
        "        p_positive_given_contaminated * p_contaminated +\n",
        "        p_positive_given_not_contaminated * p_not_contaminated\n",
        "    )\n",
        "\n",
        "def compute_posterior(p_contaminated, p_positive_given_contaminated, p_positive):\n",
        "    return (p_positive_given_contaminated * p_contaminated) / p_positive\n",
        "\n",
        "\n",
        "# Given Probabilities\n",
        "P_contaminated = 0.005\n",
        "P_positive_given_contaminated = 0.98\n",
        "P_positive_given_not_contaminated = 0.05\n",
        "\n",
        "# Step 1: Compute P(Positive)\n",
        "P_positive = compute_p_positive(\n",
        "    P_contaminated,\n",
        "    P_positive_given_contaminated,\n",
        "    P_positive_given_not_contaminated\n",
        ")\n",
        "\n",
        "# Step 2: Compute Posterior\n",
        "P_contaminated_given_positive = compute_posterior(\n",
        "    P_contaminated,\n",
        "    P_positive_given_contaminated,\n",
        "    P_positive\n",
        ")\n",
        "\n",
        "# Output\n",
        "print(\"Bayesian Inference for Food Testing:\")\n",
        "print(f\"Prior (P(Contaminated))                = {P_contaminated:.5f}\")\n",
        "print(f\"Likelihood (P(Positive | Contaminated)) = {P_positive_given_contaminated}\")\n",
        "print(f\"P(Positive) (Total)                     = {P_positive:.5f}\")\n",
        "print(f\"Posterior (P(Contaminated | Positive))  = {P_contaminated_given_positive:.3%}\")"
      ],
      "metadata": {
        "colab": {
          "base_uri": "https://localhost:8080/"
        },
        "id": "MPVJ9wSI9IHo",
        "outputId": "65c44be3-667c-47fb-f81b-d6306b95f23e"
      },
      "execution_count": 16,
      "outputs": [
        {
          "output_type": "stream",
          "name": "stdout",
          "text": [
            "Bayesian Inference for Food Testing:\n",
            "Prior (P(Contaminated))                = 0.00500\n",
            "Likelihood (P(Positive | Contaminated)) = 0.98\n",
            "P(Positive) (Total)                     = 0.05465\n",
            "Posterior (P(Contaminated | Positive))  = 8.966%\n"
          ]
        }
      ]
    }
  ]
}